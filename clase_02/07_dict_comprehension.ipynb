{
 "cells": [
  {
   "cell_type": "markdown",
   "metadata": {},
   "source": [
    "# Dict Comprehension"
   ]
  },
  {
   "cell_type": "markdown",
   "metadata": {},
   "source": [
    "Para crear dinámicamente un diccionario se puede hacer por medio de un loop (u otras alternativas). \n",
    "\n",
    "Un ejemplo de esto es el siguiente código, que se encarga de almacenar los\n",
    "números del 1 al 5 en un diccionario llamado `numeros_dict`, sin embargo es necesario tener en cuenta que se debe inicializar el diccionario antes de ejecutar el ciclo\n",
    "\n",
    "```python\n",
    ">> numeros_dict = {}\n",
    ">> for num in range(1, 6):\n",
    ">>     numeros_dict[f\"numero_{num}\"] = num\n",
    ">> print(numeros_dict)\n",
    "{'numero_1': 1, 'numero_2': 2, 'numero_3': 3, 'numero_4': 4, 'numero_5': 5}\n",
    "```"
   ]
  },
  {
   "cell_type": "code",
   "execution_count": 3,
   "metadata": {},
   "outputs": [
    {
     "name": "stdout",
     "output_type": "stream",
     "text": [
      "{'dos': 2}\n"
     ]
    }
   ],
   "source": [
    "numeros_dict = dict()\n",
    "numeros_dict['dos'] = 2\n",
    "\n",
    "print(numeros_dict)"
   ]
  },
  {
   "cell_type": "code",
   "execution_count": 4,
   "metadata": {},
   "outputs": [
    {
     "name": "stdout",
     "output_type": "stream",
     "text": [
      "Hola Carlos\n"
     ]
    }
   ],
   "source": [
    "# f-string\n",
    "nombre = 'Carlos'\n",
    "print(f'Hola {nombre}')"
   ]
  },
  {
   "cell_type": "code",
   "execution_count": 13,
   "metadata": {},
   "outputs": [
    {
     "name": "stdout",
     "output_type": "stream",
     "text": [
      "{'num_1': 1}\n",
      "{'num_1': 1, 'num_2': 2}\n",
      "{'num_1': 1, 'num_2': 2, 'num_3': 3}\n",
      "{'num_1': 1, 'num_2': 2, 'num_3': 3, 'num_4': 4}\n",
      "{'num_1': 1, 'num_2': 2, 'num_3': 3, 'num_4': 4}\n"
     ]
    }
   ],
   "source": [
    "dict_1 = {}\n",
    "for i in range(1, 5):\n",
    "    dict_1[f'num_{i}'] = i\n",
    "    print(dict_1)\n",
    "\n",
    "print(dict_1)"
   ]
  },
  {
   "cell_type": "markdown",
   "metadata": {},
   "source": [
    "Por otro lado, tenemos la alternativa de crear el mismo diccionario haciendo uso de dict_comprehension:\n",
    "\n",
    "```python\n",
    ">> numeros_dict_2 = { f'numero_{num}': num for num in range(1, 6) }\n",
    ">> print(numeros_dict_2)\n",
    "{'numero_1': 1, 'numero_2': 2, 'numero_3': 3, 'numero_4': 4, 'numero_5': 5}\n",
    "```"
   ]
  },
  {
   "cell_type": "code",
   "execution_count": 15,
   "metadata": {},
   "outputs": [
    {
     "name": "stdout",
     "output_type": "stream",
     "text": [
      "{'num_1': 1, 'num_2': 2, 'num_3': 3, 'num_4': 4}\n"
     ]
    }
   ],
   "source": [
    "dict_2 = { f'num_{i}': i  for i in range(1, 5) }\n",
    "print(dict_2)"
   ]
  },
  {
   "cell_type": "code",
   "execution_count": 14,
   "metadata": {},
   "outputs": [
    {
     "name": "stdout",
     "output_type": "stream",
     "text": [
      "{'llave': 'valor'}\n"
     ]
    }
   ],
   "source": [
    "dict_3 = {'llave': 'valor'}\n",
    "print(dict_3)"
   ]
  },
  {
   "cell_type": "code",
   "execution_count": 17,
   "metadata": {},
   "outputs": [
    {
     "name": "stdout",
     "output_type": "stream",
     "text": [
      "{'numero_12': 12, 'numero_14': 14, 'numero_16': 16, 'numero_18': 18, 'numero_20': 20}\n"
     ]
    }
   ],
   "source": [
    "# Con condiciones\n",
    "dict_4 = dict()\n",
    "\n",
    "for num in range(11, 21):\n",
    "    if num % 2 == 0:\n",
    "        dict_4[f'numero_{num}'] = num\n",
    "\n",
    "print(dict_4)"
   ]
  },
  {
   "cell_type": "code",
   "execution_count": 19,
   "metadata": {},
   "outputs": [
    {
     "name": "stdout",
     "output_type": "stream",
     "text": [
      "{'numero_12': 12, 'numero_14': 14, 'numero_16': 16, 'numero_18': 18, 'numero_20': 20}\n"
     ]
    }
   ],
   "source": [
    "dict_5 = { f'numero_{num}': num for num in range(11, 21) if num % 2 == 0 }\n",
    "print(dict_5)"
   ]
  },
  {
   "cell_type": "code",
   "execution_count": 21,
   "metadata": {},
   "outputs": [
    {
     "name": "stdout",
     "output_type": "stream",
     "text": [
      "{'11': 'impar', '12': 'par', '13': 'impar', '14': 'par', '15': 'impar', '16': 'par', '17': 'impar', '18': 'par', '19': 'impar', '20': 'par'}\n"
     ]
    }
   ],
   "source": [
    "dict_6 = { f'{num}': 'par' if num % 2 == 0 else 'impar' for num in range(11, 21) }\n",
    "print(dict_6)"
   ]
  },
  {
   "cell_type": "markdown",
   "metadata": {},
   "source": [
    "También existe una función llamada `zip` que nos permite realizar la unión de dos listas tomando una como los\n",
    "las llaves y la otra como los valores:\n",
    "\n",
    "```python\n",
    ">> deportes = ['futbol', 'baloncesto', 'tenis', 'ajedrez']\n",
    ">> jugadores = [22, 5, 4, 2]\n",
    "\n",
    ">> deportes_dict = { deporte: jugador for (deporte, jugador) in zip(deportes, jugadores) }\n",
    ">> print(deportes_dict)\n",
    "{'futbol': 22, 'baloncesto': 5, 'tenis': 4, 'ajedrez': 2}\n",
    "```"
   ]
  },
  {
   "cell_type": "code",
   "execution_count": 32,
   "metadata": {},
   "outputs": [],
   "source": [
    "deportes = ['futbol', 'baloncesto', 'tenis', 'ajedrez', 'pimpon']\n",
    "jugadores = [22, 5, 4, 2]"
   ]
  },
  {
   "cell_type": "code",
   "execution_count": 33,
   "metadata": {},
   "outputs": [
    {
     "name": "stdout",
     "output_type": "stream",
     "text": [
      "{'futbol': 22, 'baloncesto': 5, 'tenis': 4, 'ajedrez': 2}\n"
     ]
    }
   ],
   "source": [
    "deportes_dict = dict()\n",
    "\n",
    "for i in range(0, 4):\n",
    "    deportes_dict[deportes[i]] = jugadores[i]\n",
    "\n",
    "print(deportes_dict)"
   ]
  },
  {
   "cell_type": "code",
   "execution_count": 36,
   "metadata": {},
   "outputs": [
    {
     "name": "stdout",
     "output_type": "stream",
     "text": [
      "{'futbol': 22, 'baloncesto': 5, 'tenis': 4, 'ajedrez': 2}\n"
     ]
    }
   ],
   "source": [
    "deportes_dict = dict()\n",
    "\n",
    "for i in range(0, len(jugadores)):\n",
    "    deportes_dict[deportes[i]] = jugadores[i]\n",
    "\n",
    "print(deportes_dict)"
   ]
  },
  {
   "cell_type": "code",
   "execution_count": 37,
   "metadata": {},
   "outputs": [
    {
     "name": "stdout",
     "output_type": "stream",
     "text": [
      "{22: 22, 5: 5, 4: 4, 2: 2}\n"
     ]
    }
   ],
   "source": [
    "deportes_dict = dict()\n",
    "\n",
    "for i,j in enumerate(jugadores):\n",
    "    deportes_dict[j] = jugadores[i]\n",
    "\n",
    "print(deportes_dict)"
   ]
  },
  {
   "cell_type": "code",
   "execution_count": 38,
   "metadata": {},
   "outputs": [
    {
     "data": {
      "text/plain": [
       "{'futbol': 22, 'baloncesto': 5, 'tenis': 4, 'ajedrez': 2}"
      ]
     },
     "execution_count": 38,
     "metadata": {},
     "output_type": "execute_result"
    }
   ],
   "source": [
    "deportes_dict = { deporte: jugador for (deporte, jugador) in zip(deportes, jugadores) }\n",
    "deportes_dict"
   ]
  }
 ],
 "metadata": {
  "kernelspec": {
   "display_name": "data",
   "language": "python",
   "name": "python3"
  },
  "language_info": {
   "codemirror_mode": {
    "name": "ipython",
    "version": 3
   },
   "file_extension": ".py",
   "mimetype": "text/x-python",
   "name": "python",
   "nbconvert_exporter": "python",
   "pygments_lexer": "ipython3",
   "version": "3.9.12"
  },
  "orig_nbformat": 4
 },
 "nbformat": 4,
 "nbformat_minor": 2
}
