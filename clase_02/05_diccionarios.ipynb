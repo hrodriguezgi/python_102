{
 "cells": [
  {
   "cell_type": "markdown",
   "metadata": {},
   "source": [
    "# Diccionarios (`dict`)"
   ]
  },
  {
   "cell_type": "markdown",
   "metadata": {},
   "source": [
    "Los diccionarios son un tipo de dato en python que se conocen por ser iterables,\n",
    "sin embargo cuentan con una diferencia notoria frente a las listas, tuplas y \n",
    "conjuntos: estos cuentan con una estructura de `clave : valor`. Esto quiere decir\n",
    "que la información almacenada en este tipo de objetos siempre deben contar con\n",
    "una llave única que los identifique en el diccionario, y cuyo valor puede ser\n",
    "cualquier objeto incluyendo otro diccionario.\n",
    "\n",
    "\n",
    "Creamos los siguientes diccionarios:\n",
    "```python\n",
    ">> dict_manz_roja = {'name':'manzana', 'color': 'rojo', 'sabor': 'dulce'}\n",
    ">> dict_manz_verde = {'name':'manzana', 'color': 'verde', 'sabor': 'acida'}\n",
    "```\n",
    "\n",
    "Para visualizar el contenido, basta con hacer un print de la variable:\n",
    "```python\n",
    ">> print(dict_manz_roja)\n",
    "{'name': 'manzana', 'color': 'rojo', 'sabor': 'dulce'}\n",
    "```"
   ]
  },
  {
   "cell_type": "markdown",
   "metadata": {},
   "source": [
    "## Métodos de Diccionarios\n",
    "\n",
    "### Creación de nuevas llaves\n",
    "\n",
    "```python\n",
    ">> dict_manz_roja['tamanio'] = 'mediano'\n",
    ">> print(dict_manz_roja)\n",
    "{'name': 'manzana', 'color': 'rojo', 'sabor': 'dulce', 'tamanio': 'mediano'}\n",
    "```"
   ]
  },
  {
   "cell_type": "markdown",
   "metadata": {},
   "source": [
    "### Actualizar llaves\n",
    "\n",
    "```python\n",
    ">> dict_manz_verde['sabor'] = 'dulce'\n",
    ">> print(dict_manz_verde)\n",
    "{'name': 'manzana', 'color': 'verde', 'sabor': 'dulce'}\n",
    "```"
   ]
  },
  {
   "cell_type": "markdown",
   "metadata": {},
   "source": [
    "### Obtener una llave\n",
    "\n",
    "1. Opción 1:\n",
    "\n",
    "```python\n",
    ">> print(dict_manz_roja['sabor'])\n",
    "dulce\n",
    "```\n",
    "\n",
    "2. Opción 2:\n",
    "```python\n",
    ">> print(dict_manz_roja.get('colores'))\n",
    "None\n",
    "```"
   ]
  },
  {
   "cell_type": "markdown",
   "metadata": {},
   "source": [
    "### Eliminar una llave-valor\n",
    "\n",
    "```python\n",
    ">> dict_manz_roja.pop('tamanio')\n",
    ">> print(dict_manz_roja)\n",
    "{'name': 'manzana', 'color': 'rojo', 'sabor': 'dulce'}\n",
    "```"
   ]
  },
  {
   "cell_type": "markdown",
   "metadata": {},
   "source": [
    "### Obtener todas las llaves\n",
    "\n",
    "```python\n",
    ">> print(dict_manz_verde.keys())\n",
    "dict_keys(['name', 'color', 'sabor'])\n",
    "```"
   ]
  },
  {
   "cell_type": "markdown",
   "metadata": {},
   "source": [
    "### Obtener todos los valores\n",
    "\n",
    "```python\n",
    ">> print(dict_manz_verde.values())\n",
    "dict_values(['manzana', 'verde', 'dulce'])\n",
    "```"
   ]
  },
  {
   "cell_type": "markdown",
   "metadata": {},
   "source": [
    "### Obtener todos los llaves-valores\n",
    "\n",
    "```python\n",
    ">> print(dict_manz_verde.items())\n",
    "dict_items([('name', 'manzana'), ('color', 'verde'), ('sabor', 'dulce')])\n",
    "```"
   ]
  }
 ],
 "metadata": {
  "kernelspec": {
   "display_name": "data",
   "language": "python",
   "name": "python3"
  },
  "language_info": {
   "codemirror_mode": {
    "name": "ipython",
    "version": 3
   },
   "file_extension": ".py",
   "mimetype": "text/x-python",
   "name": "python",
   "nbconvert_exporter": "python",
   "pygments_lexer": "ipython3",
   "version": "3.9.12"
  },
  "orig_nbformat": 4
 },
 "nbformat": 4,
 "nbformat_minor": 2
}
