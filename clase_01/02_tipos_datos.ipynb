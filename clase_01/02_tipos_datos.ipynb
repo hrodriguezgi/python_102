{
 "cells": [
  {
   "cell_type": "markdown",
   "metadata": {},
   "source": [
    "# Tipos de datos en python"
   ]
  },
  {
   "cell_type": "markdown",
   "metadata": {},
   "source": [
    "## Numéricos\n",
    "\n",
    "* Enteros (`int`)\n",
    "```python\n",
    ">> v_int = 20\n",
    ">> print(type(v_int), v_int)\n",
    "<class 'int'> 20\n",
    "```\n",
    "\n",
    "* Punto flotante (`float`)\n",
    "```python\n",
    ">> v_float = 3.14\n",
    ">> print(type(v_float), v_float)\n",
    "<class 'float'> 3.14\n",
    "```\n",
    "\n",
    "* Coplejos (`complex`)\n",
    "```python\n",
    ">> v_complex = 2 + 5j\n",
    ">> print(type(v_complex), v_complex)\n",
    "<class 'complex'> (2+5j)\n",
    "```"
   ]
  },
  {
   "cell_type": "code",
   "execution_count": 1,
   "metadata": {},
   "outputs": [
    {
     "data": {
      "text/plain": [
       "int"
      ]
     },
     "execution_count": 1,
     "metadata": {},
     "output_type": "execute_result"
    }
   ],
   "source": [
    "f = -1\n",
    "type(f)"
   ]
  },
  {
   "cell_type": "markdown",
   "metadata": {},
   "source": [
    "## Texto\n",
    "\n",
    "* Cadenas (`str`)\n",
    "```python\n",
    ">> v_str = 'Hello World'\n",
    ">> print(type(v_str), v_str)\n",
    "<class 'str'> Hello World\n",
    "```"
   ]
  },
  {
   "cell_type": "code",
   "execution_count": 3,
   "metadata": {},
   "outputs": [
    {
     "name": "stdout",
     "output_type": "stream",
     "text": [
      "Hola Mundo\n",
      "Esto es una única variable\n",
      "que tiene 3 líneas\n"
     ]
    }
   ],
   "source": [
    "# Cómo creo una variable multilinea de texto?\n",
    "multi = '''Hola Mundo\n",
    "Esto es una única variable\n",
    "que tiene 3 líneas'''\n",
    "\n",
    "print(multi)"
   ]
  },
  {
   "cell_type": "markdown",
   "metadata": {},
   "source": [
    "## Booleanos\n",
    "\n",
    "* Booleanos (`bool`)\n",
    "```python\n",
    ">> v_bool = True\n",
    ">> print(type(v_bool), v_bool)\n",
    "<class 'bool'> True\n",
    "```"
   ]
  },
  {
   "cell_type": "code",
   "execution_count": 1,
   "metadata": {},
   "outputs": [
    {
     "ename": "NameError",
     "evalue": "name 'true' is not defined",
     "output_type": "error",
     "traceback": [
      "\u001b[0;31m---------------------------------------------------------------------------\u001b[0m",
      "\u001b[0;31mNameError\u001b[0m                                 Traceback (most recent call last)",
      "\u001b[0;32m/var/folders/n2/685y2tsn1gb_xqdhz1j3vs2h0000gn/T/ipykernel_63037/1703371426.py\u001b[0m in \u001b[0;36m<cell line: 3>\u001b[0;34m()\u001b[0m\n\u001b[1;32m      1\u001b[0m \u001b[0;31m# No es lo mismo false que False, o true que True\u001b[0m\u001b[0;34m\u001b[0m\u001b[0;34m\u001b[0m\u001b[0m\n\u001b[1;32m      2\u001b[0m \u001b[0;34m\u001b[0m\u001b[0m\n\u001b[0;32m----> 3\u001b[0;31m \u001b[0mvar1\u001b[0m \u001b[0;34m=\u001b[0m \u001b[0mtrue\u001b[0m\u001b[0;34m\u001b[0m\u001b[0;34m\u001b[0m\u001b[0m\n\u001b[0m\u001b[1;32m      4\u001b[0m \u001b[0mvar2\u001b[0m \u001b[0;34m=\u001b[0m \u001b[0;32mTrue\u001b[0m\u001b[0;34m\u001b[0m\u001b[0;34m\u001b[0m\u001b[0m\n",
      "\u001b[0;31mNameError\u001b[0m: name 'true' is not defined"
     ]
    }
   ],
   "source": [
    "# No es lo mismo false que False, o true que True\n",
    "\n",
    "var1 = true\n",
    "var2 = True"
   ]
  },
  {
   "cell_type": "code",
   "execution_count": 2,
   "metadata": {},
   "outputs": [
    {
     "data": {
      "text/plain": [
       "2"
      ]
     },
     "execution_count": 2,
     "metadata": {},
     "output_type": "execute_result"
    }
   ],
   "source": [
    "1 + True"
   ]
  },
  {
   "cell_type": "code",
   "execution_count": 3,
   "metadata": {},
   "outputs": [
    {
     "data": {
      "text/plain": [
       "2"
      ]
     },
     "execution_count": 3,
     "metadata": {},
     "output_type": "execute_result"
    }
   ],
   "source": [
    "2 - False"
   ]
  },
  {
   "cell_type": "markdown",
   "metadata": {},
   "source": [
    "## Secuencias\n",
    "\n",
    "* Listas (`list`)\n",
    "```python\n",
    ">> v_list = [\"apple\", \"banana\", \"cherry\"]\n",
    ">> print(type(v_list), v_list)\n",
    "<class 'list'> ['apple', 'banana', 'cherry']\n",
    "```\n",
    "\n",
    "* Tuplas (`tuple`)\n",
    "```python\n",
    ">> v_tuple = (\"apple\", \"banana\", \"cherry\")\n",
    ">> print(type(v_tuple), v_tuple)\n",
    "<class 'tuple'> ('apple', 'banana', 'cherry')\n",
    "```\n",
    "\n",
    "* Rangos (`range`)\n",
    "```python\n",
    ">> v_range = range(6)\n",
    ">> print(type(v_range), v_range)\n",
    "<class 'range'> range(0, 6)\n",
    "```"
   ]
  },
  {
   "cell_type": "code",
   "execution_count": 4,
   "metadata": {},
   "outputs": [
    {
     "name": "stdout",
     "output_type": "stream",
     "text": [
      "0\n",
      "1\n",
      "2\n",
      "3\n",
      "4\n",
      "5\n"
     ]
    }
   ],
   "source": [
    "for i in range(6):\n",
    "    print(i)"
   ]
  },
  {
   "cell_type": "code",
   "execution_count": 5,
   "metadata": {},
   "outputs": [
    {
     "name": "stdout",
     "output_type": "stream",
     "text": [
      "[1, 3.14, True, [1, 2, 3], 'Hola Mundo']\n"
     ]
    }
   ],
   "source": [
    "# Las listas pueden almacenar cualquier tipo de objeto\n",
    "mi_lista = [1, 3.14, True, [1,2,3], 'Hola Mundo']\n",
    "print(mi_lista)"
   ]
  },
  {
   "cell_type": "code",
   "execution_count": 6,
   "metadata": {},
   "outputs": [
    {
     "name": "stdout",
     "output_type": "stream",
     "text": [
      "(1, 3.14, True, [1, 2, 3], 'Hola Mundo')\n"
     ]
    }
   ],
   "source": [
    "# Las tuplas pueden almacenar cualquier tipo de objeto\n",
    "# Las tuplas son inmutables. Qué es eso?: Una vez definidas no pueden ser modificadas\n",
    "mi_tupla = (1, 3.14, True, [1,2,3], 'Hola Mundo')\n",
    "print(mi_tupla)"
   ]
  },
  {
   "cell_type": "markdown",
   "metadata": {},
   "source": [
    "## Mapeos\n",
    "\n",
    "* Diccionarios (`dict`)\n",
    "```python\n",
    ">> v_dict = {\"name\": \"John\", \"age\": 36}\n",
    ">> print(type(v_dict), v_dict)\n",
    "<class 'dict'> {'name': 'John', 'age': 36}\n",
    "```"
   ]
  },
  {
   "cell_type": "code",
   "execution_count": 8,
   "metadata": {},
   "outputs": [
    {
     "name": "stdout",
     "output_type": "stream",
     "text": [
      "{'llave_1': 'valor_1', 'llave_2': 2, 'llave_3': [1, 2, 3]}\n"
     ]
    }
   ],
   "source": [
    "mi_dic = {'llave_1': 'valor_1', 'llave_2': 2, 'llave_3': [1,2,3]}\n",
    "print(mi_dic)"
   ]
  },
  {
   "cell_type": "markdown",
   "metadata": {},
   "source": [
    "## Conjuntos\n",
    "\n",
    "* Conjuntos (`set`)\n",
    "```python\n",
    ">> v_set = {\"apple\", \"banana\", \"cherry\"}\n",
    ">> print(type(v_set), v_set)\n",
    "<class 'set'> {'cherry', 'apple', 'banana'}\n",
    "```"
   ]
  },
  {
   "cell_type": "code",
   "execution_count": 9,
   "metadata": {},
   "outputs": [
    {
     "name": "stdout",
     "output_type": "stream",
     "text": [
      "{1, 2, 3, 4, 5} [1, 2, 3, 4, 5, 1, 2, 3, 4, 5]\n"
     ]
    }
   ],
   "source": [
    "mi_conj = {1, 2, 3, 4, 5, 1, 2, 3, 4, 5}\n",
    "mi_list = [1, 2, 3, 4, 5, 1, 2, 3, 4, 5]\n",
    "\n",
    "print(mi_conj, mi_list)"
   ]
  }
 ],
 "metadata": {
  "kernelspec": {
   "display_name": "data",
   "language": "python",
   "name": "python3"
  },
  "language_info": {
   "codemirror_mode": {
    "name": "ipython",
    "version": 3
   },
   "file_extension": ".py",
   "mimetype": "text/x-python",
   "name": "python",
   "nbconvert_exporter": "python",
   "pygments_lexer": "ipython3",
   "version": "3.9.12"
  },
  "orig_nbformat": 4
 },
 "nbformat": 4,
 "nbformat_minor": 2
}
