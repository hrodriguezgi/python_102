{
 "cells": [
  {
   "cell_type": "markdown",
   "metadata": {},
   "source": [
    "# Listas (`lists`)"
   ]
  },
  {
   "cell_type": "markdown",
   "metadata": {},
   "source": [
    "Las listas son un tipo de dato en python que se conocen por ser iterables\n",
    "como lo son los conjuntos y las tuplas. Este tipo de dato permite almacenar\n",
    "cualquier otro tipo de dato, incluso otras listas. Son mutables, son indexables \n",
    "(slice) y permiten datos duplicados.\n",
    "\n",
    "\n",
    "Creamos las siguientes listas:\n",
    "```python\n",
    ">> list_frutas = ['manzana', 'banano', 'naranja']\n",
    ">> list_animales = ['serpiente', 'gorila', 'llama']\n",
    "```\n",
    "\n",
    "Para visualizar el contenido, basta con hacer un print de la variable:\n",
    "```python\n",
    ">> print(list_frutas)\n",
    "['manzana', 'banano', 'naranja']\n",
    "```\n",
    "\n",
    "* Elementos duplicados: las listas permiten elementos duplicados\n",
    "```python\n",
    ">> list_animales2 = ['serpiente', 'gorila', 'llama', 'gorila', 'caballo', 'vaca', 'serpiente', 'llama']\n",
    ">> print(list_animales2)\n",
    "['serpiente', 'gorila', 'llama', 'gorila', 'caballo', 'vaca', 'serpiente', 'llama']\n",
    "```"
   ]
  },
  {
   "cell_type": "code",
   "execution_count": 2,
   "metadata": {},
   "outputs": [
    {
     "name": "stdout",
     "output_type": "stream",
     "text": [
      "['manzana', 'banano', 'naranja', 'fresa', 'mandarina', 'maracuya', 'limon']\n"
     ]
    }
   ],
   "source": [
    "list_frutas = ['manzana', 'banano', 'naranja', 'fresa', 'mandarina', 'maracuya', 'limon']\n",
    "print(list_frutas)"
   ]
  },
  {
   "cell_type": "markdown",
   "metadata": {},
   "source": [
    "## Métodos de Listas\n",
    "\n",
    "### Slice\n",
    "slice: `[inicio:fin:salto]`\n",
    "* si no está definido el inicio, se toma 0 como valor por defecto\n",
    "* si no está definido el fin, se toma desde el valor definido en inicio hasta el final de la lista.\n",
    "* el valor del fin está excluido en el resultado\n",
    "\n",
    "\n",
    "Ejemplo:\n",
    "```python\n",
    ">> list_animales2_new[::2]\n",
    "['serpiente', 'llama', 'caballo', 'serpiente']\n",
    "```"
   ]
  },
  {
   "cell_type": "code",
   "execution_count": 3,
   "metadata": {},
   "outputs": [
    {
     "name": "stdout",
     "output_type": "stream",
     "text": [
      "['manzana', 'banano', 'naranja', 'fresa', 'mandarina', 'maracuya', 'limon']\n"
     ]
    }
   ],
   "source": [
    "print(list_frutas[::])"
   ]
  },
  {
   "cell_type": "code",
   "execution_count": 4,
   "metadata": {},
   "outputs": [
    {
     "name": "stdout",
     "output_type": "stream",
     "text": [
      "['naranja', 'fresa', 'mandarina', 'maracuya', 'limon']\n"
     ]
    }
   ],
   "source": [
    "print(list_frutas[2::])"
   ]
  },
  {
   "cell_type": "code",
   "execution_count": 6,
   "metadata": {},
   "outputs": [
    {
     "name": "stdout",
     "output_type": "stream",
     "text": [
      "['naranja', 'fresa', 'mandarina', 'maracuya']\n"
     ]
    }
   ],
   "source": [
    "print(list_frutas[2:6:])"
   ]
  },
  {
   "cell_type": "code",
   "execution_count": 9,
   "metadata": {},
   "outputs": [
    {
     "name": "stdout",
     "output_type": "stream",
     "text": [
      "['manzana', 'naranja', 'mandarina', 'limon']\n"
     ]
    }
   ],
   "source": [
    "print(list_frutas[::2])"
   ]
  },
  {
   "cell_type": "code",
   "execution_count": 3,
   "metadata": {},
   "outputs": [
    {
     "name": "stdout",
     "output_type": "stream",
     "text": [
      "['manzana', 'banano', 'naranja', 'fresa', 'mandarina', 'maracuya', 'limon']\n"
     ]
    }
   ],
   "source": [
    "print(list_frutas)"
   ]
  },
  {
   "cell_type": "markdown",
   "metadata": {},
   "source": [
    "### Append\n",
    "\n",
    "Adicionar elementos a una lista:\n",
    "\n",
    "```python\n",
    ">> list_animales2.append('vaca')\n",
    ">> print(list_animales2)\n",
    "['serpiente', 'gorila', 'llama', 'gorila', 'caballo', 'vaca', 'serpiente', 'llama', 'vaca']\n",
    "```"
   ]
  },
  {
   "cell_type": "code",
   "execution_count": 4,
   "metadata": {},
   "outputs": [
    {
     "name": "stdout",
     "output_type": "stream",
     "text": [
      "['manzana', 'banano', 'naranja', 'fresa', 'mandarina', 'maracuya', 'limon', 'coco']\n"
     ]
    }
   ],
   "source": [
    "list_frutas.append('coco')\n",
    "print(list_frutas)"
   ]
  },
  {
   "cell_type": "code",
   "execution_count": 5,
   "metadata": {},
   "outputs": [
    {
     "name": "stdout",
     "output_type": "stream",
     "text": [
      "['manzana', 'banano', 'naranja', 'fresa', 'mandarina', 'maracuya', 'limon', 'coco', 'sandia']\n"
     ]
    }
   ],
   "source": [
    "list_frutas.append('sandia')\n",
    "print(list_frutas)"
   ]
  },
  {
   "cell_type": "markdown",
   "metadata": {},
   "source": [
    "### Insert\n",
    "\n",
    "Adicionar elementos a una lista en una posición en partícular:\n",
    "\n",
    "```python\n",
    ">> list_animales2.insert(3, 'aguila')\n",
    ">> print(list_animales2)\n",
    "['serpiente', 'gorila', 'llama', 'aguila', 'gorila', 'caballo', 'vaca', 'serpiente', 'llama', 'vaca']\n",
    "```"
   ]
  },
  {
   "cell_type": "code",
   "execution_count": 6,
   "metadata": {},
   "outputs": [
    {
     "name": "stdout",
     "output_type": "stream",
     "text": [
      "['manzana', 'banano', 'pera', 'naranja', 'fresa', 'mandarina', 'maracuya', 'limon', 'coco', 'sandia']\n"
     ]
    }
   ],
   "source": [
    "list_frutas.insert(2,'pera')\n",
    "print(list_frutas)"
   ]
  },
  {
   "cell_type": "code",
   "execution_count": 7,
   "metadata": {},
   "outputs": [
    {
     "name": "stdout",
     "output_type": "stream",
     "text": [
      "['manzana', 'banano', 'pera', 'naranja', 'fresa', 'mandarina', 'maracuya', 'mango', 'limon', 'coco', 'sandia']\n"
     ]
    }
   ],
   "source": [
    "list_frutas.insert(7,'mango')\n",
    "print(list_frutas)"
   ]
  },
  {
   "cell_type": "markdown",
   "metadata": {},
   "source": [
    "### Pop\n",
    "\n",
    "Remover un elemento de la lista. Por defecto será el último\n",
    "\n",
    "```python\n",
    ">> list_animales2.pop()\n",
    ">> print(list_animales2)\n",
    "['serpiente', 'gorila', 'llama', 'aguila', 'gorila', 'caballo', 'vaca', 'serpiente', 'llama']\n",
    "```"
   ]
  },
  {
   "cell_type": "code",
   "execution_count": 8,
   "metadata": {},
   "outputs": [
    {
     "name": "stdout",
     "output_type": "stream",
     "text": [
      "['manzana', 'banano', 'pera', 'naranja', 'fresa', 'mandarina', 'maracuya', 'mango', 'limon', 'coco']\n"
     ]
    }
   ],
   "source": [
    "list_frutas.pop()\n",
    "print(list_frutas)"
   ]
  },
  {
   "cell_type": "code",
   "execution_count": 9,
   "metadata": {},
   "outputs": [
    {
     "name": "stdout",
     "output_type": "stream",
     "text": [
      "['manzana', 'banano', 'pera', 'naranja', 'fresa', 'mandarina', 'mango', 'limon', 'coco']\n"
     ]
    }
   ],
   "source": [
    "list_frutas.pop(6)\n",
    "print(list_frutas)"
   ]
  },
  {
   "cell_type": "code",
   "execution_count": 10,
   "metadata": {},
   "outputs": [
    {
     "ename": "IndexError",
     "evalue": "pop index out of range",
     "output_type": "error",
     "traceback": [
      "\u001b[0;31m---------------------------------------------------------------------------\u001b[0m",
      "\u001b[0;31mIndexError\u001b[0m                                Traceback (most recent call last)",
      "\u001b[0;32m/var/folders/n2/685y2tsn1gb_xqdhz1j3vs2h0000gn/T/ipykernel_40083/3022426577.py\u001b[0m in \u001b[0;36m<cell line: 1>\u001b[0;34m()\u001b[0m\n\u001b[0;32m----> 1\u001b[0;31m \u001b[0mlist_frutas\u001b[0m\u001b[0;34m.\u001b[0m\u001b[0mpop\u001b[0m\u001b[0;34m(\u001b[0m\u001b[0;36m10\u001b[0m\u001b[0;34m)\u001b[0m\u001b[0;34m\u001b[0m\u001b[0;34m\u001b[0m\u001b[0m\n\u001b[0m",
      "\u001b[0;31mIndexError\u001b[0m: pop index out of range"
     ]
    }
   ],
   "source": [
    "# El argumento no puede ser mayor que la longitud de la lista\n",
    "list_frutas.pop(10)"
   ]
  },
  {
   "cell_type": "code",
   "execution_count": 11,
   "metadata": {},
   "outputs": [
    {
     "name": "stdout",
     "output_type": "stream",
     "text": [
      "['manzana', 'banano', 'pera', 'naranja', 'fresa', 'mandarina', 'mango', 'limon', 'coco']\n"
     ]
    }
   ],
   "source": [
    "print(list_frutas)"
   ]
  },
  {
   "cell_type": "code",
   "execution_count": 12,
   "metadata": {},
   "outputs": [
    {
     "name": "stdout",
     "output_type": "stream",
     "text": [
      "['manzana', 'banano', 'pera', 'naranja', 'fresa', 'mandarina', 'mango', 'limon', 'coco', 'pera']\n"
     ]
    }
   ],
   "source": [
    "list_frutas.append('pera')\n",
    "print(list_frutas)"
   ]
  },
  {
   "cell_type": "markdown",
   "metadata": {},
   "source": [
    "### Remove\n",
    "\n",
    "Remover la primer ocurrencia de un elemento en la lista.\n",
    "\n",
    "```python\n",
    ">> list_animales2.remove('gorila')\n",
    ">> print(list_animales2)\n",
    "['serpiente', 'llama', 'aguila', 'gorila', 'caballo', 'vaca', 'serpiente', 'llama']\n",
    "```"
   ]
  },
  {
   "cell_type": "code",
   "execution_count": 13,
   "metadata": {},
   "outputs": [
    {
     "name": "stdout",
     "output_type": "stream",
     "text": [
      "['manzana', 'banano', 'naranja', 'fresa', 'mandarina', 'mango', 'limon', 'coco', 'pera']\n"
     ]
    }
   ],
   "source": [
    "list_frutas.remove('pera')\n",
    "print(list_frutas)"
   ]
  },
  {
   "cell_type": "markdown",
   "metadata": {},
   "source": [
    "### Extend\n",
    "\n",
    "Extender la lista a partir de los elementos de otra lista (o iterable)\n",
    "\n",
    "```python\n",
    ">> otros_animales = ['hipopotamo', 'jirafa', 'Aguila']\n",
    ">> list_animales2.extend(otros_animales)\n",
    ">> print(list_animales2)\n",
    "['serpiente', 'llama', 'aguila', 'gorila', 'caballo', 'vaca', 'serpiente', 'llama', 'hipopotamo', 'jirafa', 'Aguila']\n",
    "```"
   ]
  },
  {
   "cell_type": "code",
   "execution_count": 14,
   "metadata": {},
   "outputs": [
    {
     "name": "stdout",
     "output_type": "stream",
     "text": [
      "['manzana', 'banano', 'naranja', 'fresa', 'mandarina', 'mango', 'limon', 'coco', 'pera', 'apio', 'tomate', 'cilantro']\n"
     ]
    }
   ],
   "source": [
    "list_vegetales = ['apio', 'tomate', 'cilantro']\n",
    "list_frutas.extend(list_vegetales)\n",
    "print(list_frutas)"
   ]
  },
  {
   "cell_type": "code",
   "execution_count": 15,
   "metadata": {},
   "outputs": [
    {
     "name": "stdout",
     "output_type": "stream",
     "text": [
      "['manzana', 'banano', 'naranja', 'fresa', 'mandarina', 'mango', 'limon', 'coco', 'pera', 'apio', 'tomate', 'cilantro', ['apio', 'tomate', 'cilantro']]\n"
     ]
    }
   ],
   "source": [
    "list_frutas.append(list_vegetales)\n",
    "print(list_frutas)"
   ]
  },
  {
   "cell_type": "code",
   "execution_count": 20,
   "metadata": {},
   "outputs": [
    {
     "data": {
      "text/plain": [
       "['manzana',\n",
       " 'banano',\n",
       " 'naranja',\n",
       " 'fresa',\n",
       " 'mandarina',\n",
       " 'mango',\n",
       " 'limon',\n",
       " 'coco',\n",
       " 'pera',\n",
       " 'apio',\n",
       " 'tomate',\n",
       " 'cilantro',\n",
       " 'apio',\n",
       " 'tomate',\n",
       " 'cilantro']"
      ]
     },
     "execution_count": 20,
     "metadata": {},
     "output_type": "execute_result"
    }
   ],
   "source": [
    "# list_frutas.pop()\n",
    "list_frutas + list_vegetales\n",
    "\n",
    "# list_frutas = list_frutas + list_vegetales <-> list_frutas.extend(list_vegetales)"
   ]
  },
  {
   "cell_type": "code",
   "execution_count": 22,
   "metadata": {},
   "outputs": [],
   "source": [
    "list_frutas = list_frutas + list_vegetales"
   ]
  },
  {
   "cell_type": "code",
   "execution_count": 23,
   "metadata": {},
   "outputs": [
    {
     "name": "stdout",
     "output_type": "stream",
     "text": [
      "['manzana', 'banano', 'naranja', 'fresa', 'mandarina', 'mango', 'limon', 'coco', 'pera', 'apio', 'tomate', 'cilantro', 'apio', 'tomate', 'cilantro']\n"
     ]
    }
   ],
   "source": [
    "print(list_frutas)"
   ]
  },
  {
   "cell_type": "markdown",
   "metadata": {},
   "source": [
    "### Count\n",
    "\n",
    "Conteo de número de ocurrencias de un objeto en la lista\n",
    "\n",
    "```python\n",
    ">> print(list_animales2.count('serpiente'))\n",
    "2\n",
    "```"
   ]
  },
  {
   "cell_type": "code",
   "execution_count": 26,
   "metadata": {},
   "outputs": [
    {
     "name": "stdout",
     "output_type": "stream",
     "text": [
      "1\n"
     ]
    }
   ],
   "source": [
    "print(list_frutas.count('limon'))"
   ]
  },
  {
   "cell_type": "markdown",
   "metadata": {},
   "source": [
    "### Copy\n",
    "\n",
    "Crea una copia de una lista\n",
    "\n",
    "```python\n",
    ">> list_animales2_copy = list_animales2.copy()\n",
    ">> print(list_animales2_copy)\n",
    "['serpiente', 'llama', 'aguila', 'gorila', 'caballo', 'vaca', 'serpiente', 'llama', 'hipopotamo', 'jirafa', 'Aguila']\n",
    "```"
   ]
  },
  {
   "cell_type": "code",
   "execution_count": 27,
   "metadata": {},
   "outputs": [
    {
     "name": "stdout",
     "output_type": "stream",
     "text": [
      "['manzana', 'banano', 'naranja', 'fresa', 'mandarina', 'mango', 'limon', 'coco', 'pera', 'apio', 'tomate', 'cilantro', 'apio', 'tomate', 'cilantro']\n"
     ]
    }
   ],
   "source": [
    "list_frutas2 = list_frutas\n",
    "print(list_frutas2)"
   ]
  },
  {
   "cell_type": "code",
   "execution_count": 28,
   "metadata": {},
   "outputs": [
    {
     "name": "stdout",
     "output_type": "stream",
     "text": [
      "['manzana', 'banano', 'naranja', 'fresa', 'mandarina', 'mango', 'limon', 'coco', 'pera', 'apio', 'tomate', 'cilantro', 'apio', 'tomate']\n"
     ]
    }
   ],
   "source": [
    "list_frutas2.pop()\n",
    "print(list_frutas2)"
   ]
  },
  {
   "cell_type": "code",
   "execution_count": 29,
   "metadata": {},
   "outputs": [
    {
     "name": "stdout",
     "output_type": "stream",
     "text": [
      "['manzana', 'banano', 'naranja', 'fresa', 'mandarina', 'mango', 'limon', 'coco', 'pera', 'apio', 'tomate', 'cilantro', 'apio', 'tomate']\n"
     ]
    }
   ],
   "source": [
    "print(list_frutas)"
   ]
  },
  {
   "cell_type": "code",
   "execution_count": 32,
   "metadata": {},
   "outputs": [
    {
     "data": {
      "text/plain": [
       "True"
      ]
     },
     "execution_count": 32,
     "metadata": {},
     "output_type": "execute_result"
    }
   ],
   "source": [
    "id(list_frutas) == id(list_frutas2)"
   ]
  },
  {
   "cell_type": "code",
   "execution_count": 33,
   "metadata": {},
   "outputs": [
    {
     "name": "stdout",
     "output_type": "stream",
     "text": [
      "['manzana', 'banano', 'naranja', 'fresa', 'mandarina', 'mango', 'limon', 'coco', 'pera', 'apio', 'tomate', 'cilantro', 'apio', 'tomate']\n"
     ]
    }
   ],
   "source": [
    "list_frutas3 = list_frutas.copy()\n",
    "print(list_frutas3)"
   ]
  },
  {
   "cell_type": "code",
   "execution_count": 34,
   "metadata": {},
   "outputs": [
    {
     "name": "stdout",
     "output_type": "stream",
     "text": [
      "['manzana', 'banano', 'naranja', 'fresa', 'mandarina', 'mango', 'limon', 'coco', 'pera', 'tomate', 'cilantro', 'apio', 'tomate']\n"
     ]
    }
   ],
   "source": [
    "list_frutas3.remove('apio')\n",
    "print(list_frutas3)"
   ]
  },
  {
   "cell_type": "code",
   "execution_count": 35,
   "metadata": {},
   "outputs": [
    {
     "name": "stdout",
     "output_type": "stream",
     "text": [
      "['manzana', 'banano', 'naranja', 'fresa', 'mandarina', 'mango', 'limon', 'coco', 'pera', 'apio', 'tomate', 'cilantro', 'apio', 'tomate']\n"
     ]
    }
   ],
   "source": [
    "print(list_frutas)"
   ]
  },
  {
   "cell_type": "code",
   "execution_count": 36,
   "metadata": {},
   "outputs": [
    {
     "data": {
      "text/plain": [
       "False"
      ]
     },
     "execution_count": 36,
     "metadata": {},
     "output_type": "execute_result"
    }
   ],
   "source": [
    "id(list_frutas) == id(list_frutas3)"
   ]
  },
  {
   "cell_type": "code",
   "execution_count": 37,
   "metadata": {},
   "outputs": [
    {
     "data": {
      "text/plain": [
       "False"
      ]
     },
     "execution_count": 37,
     "metadata": {},
     "output_type": "execute_result"
    }
   ],
   "source": [
    "list_frutas4 = list_frutas[:]\n",
    "id(list_frutas) == id(list_frutas4)"
   ]
  }
 ],
 "metadata": {
  "kernelspec": {
   "display_name": "data",
   "language": "python",
   "name": "python3"
  },
  "language_info": {
   "codemirror_mode": {
    "name": "ipython",
    "version": 3
   },
   "file_extension": ".py",
   "mimetype": "text/x-python",
   "name": "python",
   "nbconvert_exporter": "python",
   "pygments_lexer": "ipython3",
   "version": "3.9.12"
  },
  "orig_nbformat": 4
 },
 "nbformat": 4,
 "nbformat_minor": 2
}
