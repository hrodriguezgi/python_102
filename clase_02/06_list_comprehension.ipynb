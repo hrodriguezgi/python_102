{
 "cells": [
  {
   "cell_type": "markdown",
   "metadata": {},
   "source": [
    "# List Comprehension"
   ]
  },
  {
   "cell_type": "markdown",
   "metadata": {},
   "source": [
    "Para crear dinámicamente una lista, se puede hacer por medio de ciclos: `for`\n",
    "\n",
    "Un ejemplo de esto es el siguiente código, que se encarga de almacenar los números del 1 al 10 en una lista llamada `numeros`, sin embargo es necesario tener en cuenta que se debe inicializar la lista antes de ejecutar el ciclo\n",
    "\n",
    "```python\n",
    ">> numeros = []\n",
    ">> for numero in range(1, 11):\n",
    ">>     numeros.append(numero)\n",
    ">> print(numeros)\n",
    "[1, 2, 3, 4, 5, 6, 7, 8, 9, 10]\n",
    "```"
   ]
  },
  {
   "cell_type": "code",
   "execution_count": 6,
   "metadata": {},
   "outputs": [
    {
     "name": "stdout",
     "output_type": "stream",
     "text": [
      "[]\n"
     ]
    }
   ],
   "source": [
    "numeros = []\n",
    "print(numeros)"
   ]
  },
  {
   "cell_type": "code",
   "execution_count": 7,
   "metadata": {},
   "outputs": [
    {
     "name": "stdout",
     "output_type": "stream",
     "text": [
      "[1]\n",
      "[1, 2]\n",
      "[1, 2, 3]\n",
      "[1, 2, 3, 4]\n",
      "[1, 2, 3, 4, 5]\n",
      "[1, 2, 3, 4, 5, 6]\n",
      "[1, 2, 3, 4, 5, 6, 7]\n",
      "[1, 2, 3, 4, 5, 6, 7, 8]\n",
      "[1, 2, 3, 4, 5, 6, 7, 8, 9]\n",
      "[1, 2, 3, 4, 5, 6, 7, 8, 9, 10]\n",
      "[1, 2, 3, 4, 5, 6, 7, 8, 9, 10]\n"
     ]
    }
   ],
   "source": [
    "for num in range(1, 11):\n",
    "    numeros.append(num)\n",
    "    print(numeros)\n",
    "\n",
    "print(numeros)"
   ]
  },
  {
   "cell_type": "markdown",
   "metadata": {},
   "source": [
    "Por otro lado, tenemos la alternativa de crear la lista haciendo uso de list\n",
    "comprehension, el cual resume las 3 anteriores lineas de código en una sola, de\n",
    "la siguiente forma:\n",
    "\n",
    "```python\n",
    ">> numeros_2 = [numero for numero in range(11, 21)]\n",
    ">> print(numeros_2)\n",
    "[11, 12, 13, 14, 15, 16, 17, 18, 19, 20]\n",
    "```"
   ]
  },
  {
   "cell_type": "code",
   "execution_count": 8,
   "metadata": {},
   "outputs": [
    {
     "name": "stdout",
     "output_type": "stream",
     "text": [
      "[11, 12, 13, 14, 15, 16, 17, 18, 19, 20]\n"
     ]
    }
   ],
   "source": [
    "otros_numeros = [ num for num in range(11, 21) ]\n",
    "print(otros_numeros)"
   ]
  },
  {
   "cell_type": "code",
   "execution_count": 11,
   "metadata": {},
   "outputs": [
    {
     "name": "stdout",
     "output_type": "stream",
     "text": [
      "1\n",
      "2\n",
      "3\n",
      "[3]\n",
      "4\n",
      "5\n",
      "6\n",
      "[3, 6]\n",
      "7\n",
      "8\n",
      "9\n",
      "[3, 6, 9]\n",
      "10\n",
      "[3, 6, 9]\n"
     ]
    }
   ],
   "source": [
    "numeros_3 = list()\n",
    "for num in range(1, 11):\n",
    "    print(num)\n",
    "    if num % 3 == 0:\n",
    "        numeros_3.append(num)\n",
    "        print(numeros_3)\n",
    "\n",
    "print(numeros_3)"
   ]
  },
  {
   "cell_type": "markdown",
   "metadata": {},
   "source": [
    "Los List Comprehension también admiten condicionales:\n",
    "\n",
    "```python\n",
    ">> numeros_3 = [numero for numero in range(21, 31) if numero % 2 == 0]\n",
    ">> print(numeros_3)\n",
    "[22, 24, 26, 28, 30]\n",
    "```"
   ]
  },
  {
   "cell_type": "code",
   "execution_count": 13,
   "metadata": {},
   "outputs": [
    {
     "name": "stdout",
     "output_type": "stream",
     "text": [
      "[12, 15, 18]\n"
     ]
    }
   ],
   "source": [
    "numeros_4 = [ num for num in range(11, 21) if num % 3 == 0 ]\n",
    "\n",
    "print(numeros_4)"
   ]
  },
  {
   "cell_type": "code",
   "execution_count": 14,
   "metadata": {},
   "outputs": [
    {
     "name": "stdout",
     "output_type": "stream",
     "text": [
      "['impar', 'par', 'impar', 'par', 'impar', 'par', 'impar', 'par', 'impar', 'par']\n"
     ]
    }
   ],
   "source": [
    "# Yo quiero determinar si el número es par o impar, entre 1 y 10\n",
    "\n",
    "# Paso 1: inicializar la lista\n",
    "numeros_5 = list()\n",
    "\n",
    "# Paso 2: For\n",
    "for num in range(1, 11):\n",
    "    if num % 2 == 0:\n",
    "        numeros_5.append('par')\n",
    "    else:\n",
    "        numeros_5.append('impar')\n",
    "\n",
    "print(numeros_5)"
   ]
  },
  {
   "cell_type": "code",
   "execution_count": 16,
   "metadata": {},
   "outputs": [
    {
     "name": "stdout",
     "output_type": "stream",
     "text": [
      "['impar', 'par', 'impar', 'par', 'impar', 'par', 'impar', 'par', 'impar', 'par']\n"
     ]
    }
   ],
   "source": [
    "numeros_6 = [ 'par' if num % 2 == 0 else 'impar' for num in range(11, 21) ]\n",
    "print(numeros_6)"
   ]
  }
 ],
 "metadata": {
  "kernelspec": {
   "display_name": "data",
   "language": "python",
   "name": "python3"
  },
  "language_info": {
   "codemirror_mode": {
    "name": "ipython",
    "version": 3
   },
   "file_extension": ".py",
   "mimetype": "text/x-python",
   "name": "python",
   "nbconvert_exporter": "python",
   "pygments_lexer": "ipython3",
   "version": "3.9.12"
  },
  "orig_nbformat": 4
 },
 "nbformat": 4,
 "nbformat_minor": 2
}
