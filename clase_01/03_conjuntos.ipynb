{
 "cells": [
  {
   "cell_type": "markdown",
   "metadata": {},
   "source": [
    "# Conjuntos (`sets`)"
   ]
  },
  {
   "cell_type": "markdown",
   "metadata": {},
   "source": [
    "Los conjuntos son un tipo de dato en python que se conocen por ser iterables como lo son las listas y las \n",
    "tuplas, pero con una condición especial: no permiten elementos duplicados, y no son ordenados. Adicional, \n",
    "se pueden realizar las operaciones entre conjuntos vistas en el colegio: union, intereseccion, diferencia y \n",
    "una nueva: diferencia simétrica.\n",
    "\n",
    "\n",
    "Creamos los siguientes conjuntos:\n",
    "```python\n",
    ">> set_pares = {2, 4, 6, 8, 10}\n",
    ">> set_impares = {1, 3, 5, 7, 9}\n",
    ">> set_primos = {1, 2, 3, 5, 7}\n",
    "```\n",
    "\n",
    "Para visualizar el contenido, basta con hacer un print de la variable:\n",
    "```python\n",
    ">> print(set_pares)\n",
    "{2, 4, 6, 8, 10}\n",
    "```\n",
    "\n",
    "* Elementos duplicados\n",
    "```python\n",
    "set_vocales = {'a', 'e', 'i', 'o', 'u', 'a', 'e', 'i', 'o', 'u'}\n",
    "```"
   ]
  },
  {
   "cell_type": "markdown",
   "metadata": {},
   "source": [
    "## Operaciones entre conjuntos\n",
    "\n",
    "### Unión\n",
    "Puede realizarse de dos formas: `set_1.union(set_2)` ó `set_1 | set_2`\n",
    "\n",
    "\n",
    "Ejemplos:\n",
    "```python\n",
    ">> set_pares.union(set_impares)\n",
    "{1, 2, 3, 4, 5, 6, 7, 8, 9, 10}\n",
    ">> set_pares | set_primos\n",
    "{1, 2, 3, 4, 5, 6, 7, 8, 10}\n",
    "```"
   ]
  },
  {
   "cell_type": "markdown",
   "metadata": {},
   "source": [
    "### Interseccion\n",
    "Puede realizarse de dos formas: `set_1.intersection(set_2)` ó `set_1 & set_2`\n",
    "\n",
    "\n",
    "Ejemplos:\n",
    "```python\n",
    ">> set_primos.intersection(set_impares)\n",
    "{1, 3, 5, 7}\n",
    ">> set_pares & set_primos\n",
    "{2}\n",
    "```"
   ]
  },
  {
   "cell_type": "markdown",
   "metadata": {},
   "source": [
    "### Diferencia\n",
    "Puede realizarse de dos formas: `set_1.difference(set_2)` ó `set_1 - set_2`\n",
    "\n",
    "\n",
    "Ejemplos:\n",
    "```python\n",
    ">> set_impares.difference(set_primos)\n",
    "{9}\n",
    ">> set_pares - set_primos\n",
    "{4, 6, 8, 10}\n",
    "```"
   ]
  },
  {
   "cell_type": "markdown",
   "metadata": {},
   "source": [
    "### Diferencia Simétrica\n",
    "Puede realizarse de dos formas: `set_1.symmetric_difference(set_2)` ó `set_1 ^ set_2`\n",
    "\n",
    "\n",
    "Ejemplos:\n",
    "```python\n",
    ">> set_impares.symmetric_difference(set_primos)\n",
    "{2, 9}\n",
    ">> set_pares ^ set_primos\n",
    "{1, 3, 4, 5, 6, 7, 8, 10}\n",
    "```"
   ]
  }
 ],
 "metadata": {
  "kernelspec": {
   "display_name": "data",
   "language": "python",
   "name": "python3"
  },
  "language_info": {
   "codemirror_mode": {
    "name": "ipython",
    "version": 3
   },
   "file_extension": ".py",
   "mimetype": "text/x-python",
   "name": "python",
   "nbconvert_exporter": "python",
   "pygments_lexer": "ipython3",
   "version": "3.9.12"
  },
  "orig_nbformat": 4
 },
 "nbformat": 4,
 "nbformat_minor": 2
}
