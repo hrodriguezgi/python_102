{
 "cells": [
  {
   "cell_type": "markdown",
   "metadata": {},
   "source": [
    "# Recuento de python 101"
   ]
  },
  {
   "cell_type": "code",
   "execution_count": 1,
   "metadata": {},
   "outputs": [
    {
     "name": "stdout",
     "output_type": "stream",
     "text": [
      "The Zen of Python, by Tim Peters\n",
      "\n",
      "Beautiful is better than ugly.\n",
      "Explicit is better than implicit.\n",
      "Simple is better than complex.\n",
      "Complex is better than complicated.\n",
      "Flat is better than nested.\n",
      "Sparse is better than dense.\n",
      "Readability counts.\n",
      "Special cases aren't special enough to break the rules.\n",
      "Although practicality beats purity.\n",
      "Errors should never pass silently.\n",
      "Unless explicitly silenced.\n",
      "In the face of ambiguity, refuse the temptation to guess.\n",
      "There should be one-- and preferably only one --obvious way to do it.\n",
      "Although that way may not be obvious at first unless you're Dutch.\n",
      "Now is better than never.\n",
      "Although never is often better than *right* now.\n",
      "If the implementation is hard to explain, it's a bad idea.\n",
      "If the implementation is easy to explain, it may be a good idea.\n",
      "Namespaces are one honking great idea -- let's do more of those!\n"
     ]
    }
   ],
   "source": [
    "import this"
   ]
  },
  {
   "cell_type": "markdown",
   "metadata": {},
   "source": [
    "## Python como lenguaje\n",
    "\n",
    "Python es de tipado dinámico, y esto significa que las variables no requieren ser declaradas del tipo al que \n",
    "pertenecen al momento de su creación ya que `Python` lo identificará. También nos permite cambiar el tipo de \n",
    "una variable cuando hacemos una asignación. Veamos el siguiente ejemplo:\n",
    "\n",
    "* Creamos una variable con el valor de `10`\n",
    "```python\n",
    ">> var = 10\n",
    ">> print(f'var:\\t{var}\\ntype(var):\\t{type(var)}\\n')\n",
    "var:    10\n",
    "type(var):      <class 'int'>\n",
    "```\n",
    "\n",
    "* Ahora modificamos la variable y le asignamos el valor `diez`\n",
    "```python\n",
    ">> var = 'diez'\n",
    ">> print(f'var:\\t{var}\\ntype(var):\\t{type(var)}')\n",
    "var:    diez\n",
    "type(var):      <class 'str'>\n",
    "```\n",
    "\n",
    "Como se pudo ver en el ejemplo, Python no requiere que sea definido un tipo de variable al momento crear una, \n",
    "y nos permite poder asignar cualquier valor y esto afectará el tipo de ella. Sin embargo, `Python` cuenta con tres forma de crear una variable:\n",
    "* **Dinámico** -> variable = 10\n",
    "* **Referencia** -> variable:int = 10\n",
    "* **Constructor** -> variable = int('10')\n",
    "\n",
    "La más utilizada es la definición dinámica, sin embargo vamos a ver que en algunas funciones, encontraremos\n",
    "que los parámetros o argumentos son declarados por medio de referencia, con el fin de transmitir al lector \n",
    "del código el tipo correcto de dato que debe enviar al utilizar la función. El último método es utilizado\n",
    "para hacer casteos (conversión de datos entre tipos)"
   ]
  },
  {
   "cell_type": "code",
   "execution_count": 1,
   "metadata": {},
   "outputs": [
    {
     "name": "stdout",
     "output_type": "stream",
     "text": [
      "var:\t10\n",
      "type(var):\t<class 'int'>\n",
      "\n"
     ]
    }
   ],
   "source": [
    "var = 10\n",
    "print(f'var:\\t{var}\\ntype(var):\\t{type(var)}\\n')"
   ]
  },
  {
   "cell_type": "code",
   "execution_count": 7,
   "metadata": {},
   "outputs": [
    {
     "name": "stdout",
     "output_type": "stream",
     "text": [
      "<class 'int'>\n"
     ]
    }
   ],
   "source": [
    "'''\n",
    "Esto es un comentario multilinea\n",
    "La variable creada a continuación es dinámica\n",
    "'''\n",
    "var = 10\n",
    "print(type(var))"
   ]
  },
  {
   "cell_type": "code",
   "execution_count": 5,
   "metadata": {},
   "outputs": [
    {
     "name": "stdout",
     "output_type": "stream",
     "text": [
      "<class 'str'>\n"
     ]
    }
   ],
   "source": [
    "# Asignación de variable por referencia\n",
    "var:int = '10'\n",
    "print(type(var))"
   ]
  },
  {
   "cell_type": "code",
   "execution_count": null,
   "metadata": {},
   "outputs": [],
   "source": []
  },
  {
   "cell_type": "markdown",
   "metadata": {},
   "source": [
    "## Comentarios\n",
    "\n",
    "Los comentarios en Python se realizan con el símbolo `#` al principio de cada linea. Si queremos hacer un\n",
    "comentario multilinea, podemos utilizar `\"\"\"` (triple comilla doble o sencilla) al inicio y otra al final."
   ]
  },
  {
   "cell_type": "code",
   "execution_count": null,
   "metadata": {},
   "outputs": [],
   "source": []
  }
 ],
 "metadata": {
  "kernelspec": {
   "display_name": "data",
   "language": "python",
   "name": "python3"
  },
  "language_info": {
   "codemirror_mode": {
    "name": "ipython",
    "version": 3
   },
   "file_extension": ".py",
   "mimetype": "text/x-python",
   "name": "python",
   "nbconvert_exporter": "python",
   "pygments_lexer": "ipython3",
   "version": "3.9.12"
  },
  "orig_nbformat": 4
 },
 "nbformat": 4,
 "nbformat_minor": 2
}
