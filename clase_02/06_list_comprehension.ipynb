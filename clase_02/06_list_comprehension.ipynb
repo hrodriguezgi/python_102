{
 "cells": [
  {
   "cell_type": "markdown",
   "metadata": {},
   "source": [
    "# List Comprehension"
   ]
  },
  {
   "cell_type": "markdown",
   "metadata": {},
   "source": [
    "Para crear dinámicamente una lista, se puede hacer por medio de ciclos: `for`\n",
    "\n",
    "Un ejemplo de esto es el siguiente código, que se encarga de almacenar los números del 1 al 10 en una lista llamada `numeros`, sin embargo es necesario tener en cuenta que se debe inicializar la lista antes de ejecutar el ciclo\n",
    "\n",
    "```python\n",
    ">> numeros = []\n",
    ">> for numero in range(1, 11):\n",
    ">>     numeros.append(numero)\n",
    ">> print(numeros)\n",
    "[1, 2, 3, 4, 5, 6, 7, 8, 9, 10]\n",
    "```"
   ]
  },
  {
   "cell_type": "markdown",
   "metadata": {},
   "source": [
    "Por otro lado, tenemos la alternativa de crear la lista haciendo uso de list\n",
    "comprehension, el cual resume las 3 anteriores lineas de código en una sola, de\n",
    "la siguiente forma:\n",
    "\n",
    "```python\n",
    ">> numeros_2 = [numero for numero in range(11, 21)]\n",
    ">> print(numeros_2)\n",
    "[11, 12, 13, 14, 15, 16, 17, 18, 19, 20]\n",
    "```"
   ]
  },
  {
   "cell_type": "markdown",
   "metadata": {},
   "source": [
    "Los List Comprehension también admiten condicionales:\n",
    "\n",
    "```python\n",
    ">> numeros_3 = [numero for numero in range(21, 31) if numero % 2 == 0]\n",
    ">> print(numeros_3)\n",
    "[22, 24, 26, 28, 30]\n",
    "```"
   ]
  }
 ],
 "metadata": {
  "kernelspec": {
   "display_name": "data",
   "language": "python",
   "name": "python3"
  },
  "language_info": {
   "codemirror_mode": {
    "name": "ipython",
    "version": 3
   },
   "file_extension": ".py",
   "mimetype": "text/x-python",
   "name": "python",
   "nbconvert_exporter": "python",
   "pygments_lexer": "ipython3",
   "version": "3.9.12"
  },
  "orig_nbformat": 4
 },
 "nbformat": 4,
 "nbformat_minor": 2
}
