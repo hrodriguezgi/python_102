{
 "cells": [
  {
   "cell_type": "markdown",
   "metadata": {},
   "source": [
    "# Dict Comprehension"
   ]
  },
  {
   "cell_type": "markdown",
   "metadata": {},
   "source": [
    "Para crear dinámicamente un diccionario se puede hacer por medio de un loop (u otras alternativas). \n",
    "\n",
    "Un ejemplo de esto es el siguiente código, que se encarga de almacenar los\n",
    "números del 1 al 5 en un diccionario llamado `numeros_dict`, sin embargo es necesario tener en cuenta que se debe inicializar el diccionario antes de ejecutar el ciclo\n",
    "\n",
    "```python\n",
    ">> numeros_dict = {}\n",
    ">> for num in range(1, 6):\n",
    ">>     numeros_dict[f\"numero_{num}\"] = num\n",
    ">> print(numeros_dict)\n",
    "{'numero_1': 1, 'numero_2': 2, 'numero_3': 3, 'numero_4': 4, 'numero_5': 5}\n",
    "```"
   ]
  },
  {
   "cell_type": "markdown",
   "metadata": {},
   "source": [
    "Por otro lado, tenemos la alternativa de crear el mismo diccionario haciendo uso de dict_comprehension:\n",
    "\n",
    "```python\n",
    ">> numeros_dict_2 = { f'numero_{num}': num for num in range(1, 6) }\n",
    ">> print(numeros_dict_2)\n",
    "{'numero_1': 1, 'numero_2': 2, 'numero_3': 3, 'numero_4': 4, 'numero_5': 5}\n",
    "```"
   ]
  },
  {
   "cell_type": "markdown",
   "metadata": {},
   "source": [
    "También existe una función llamada `zip` que nos permite realizar la unión de dos listas tomando una como los\n",
    "las llaves y la otra como los valores:\n",
    "\n",
    "```python\n",
    ">> deportes = ['futbol', 'baloncesto', 'tenis', 'ajedrez']\n",
    ">> jugadores = [22, 5, 2, 1]\n",
    "\n",
    ">> deportes_dict = { deporte: jugador for (deporte, jugador) in zip(deportes, jugadores) }\n",
    ">> print(deportes_dict)\n",
    "{'futbol': 22, 'baloncesto': 5, 'tenis': 2, 'ajedrez': 1}\n",
    "```"
   ]
  }
 ],
 "metadata": {
  "kernelspec": {
   "display_name": "data",
   "language": "python",
   "name": "python3"
  },
  "language_info": {
   "codemirror_mode": {
    "name": "ipython",
    "version": 3
   },
   "file_extension": ".py",
   "mimetype": "text/x-python",
   "name": "python",
   "nbconvert_exporter": "python",
   "pygments_lexer": "ipython3",
   "version": "3.9.12"
  },
  "orig_nbformat": 4
 },
 "nbformat": 4,
 "nbformat_minor": 2
}
