{
 "cells": [
  {
   "cell_type": "markdown",
   "metadata": {},
   "source": [
    "# Tipos de datos en python"
   ]
  },
  {
   "cell_type": "markdown",
   "metadata": {},
   "source": [
    "## Numéricos\n",
    "\n",
    "* Enteros (`int`)\n",
    "```python\n",
    ">> v_int = 20\n",
    ">> print(type(v_int), v_int)\n",
    "<class 'int'> 20\n",
    "```\n",
    "\n",
    "* Punto flotante (`float`)\n",
    "```python\n",
    ">> v_float = 3.14\n",
    ">> print(type(v_float), v_float)\n",
    "<class 'float'> 3.14\n",
    "```\n",
    "\n",
    "* Coplejos (`complex`)\n",
    "```python\n",
    ">> v_complex = 2 + 5j\n",
    ">> print(type(v_complex), v_complex)\n",
    "<class 'complex'> (2+5j)\n",
    "```"
   ]
  },
  {
   "cell_type": "markdown",
   "metadata": {},
   "source": [
    "## Texto\n",
    "\n",
    "* Cadenas (`str`)\n",
    "```python\n",
    ">> v_str = 'Hello World'\n",
    ">> print(type(v_str), v_str)\n",
    "<class 'str'> Hello World\n",
    "```"
   ]
  },
  {
   "cell_type": "markdown",
   "metadata": {},
   "source": [
    "## Booleanos\n",
    "\n",
    "* Booleanos (`bool`)\n",
    "```python\n",
    ">> v_bool = True\n",
    ">> print(type(v_bool), v_bool)\n",
    "<class 'bool'> True\n",
    "```"
   ]
  },
  {
   "cell_type": "markdown",
   "metadata": {},
   "source": [
    "## Secuencias\n",
    "\n",
    "* Listas (`list`)\n",
    "```python\n",
    ">> v_list = [\"apple\", \"banana\", \"cherry\"]\n",
    ">> print(type(v_list), v_list)\n",
    "<class 'list'> ['apple', 'banana', 'cherry']\n",
    "```\n",
    "\n",
    "* Tuplas (`tuple`)\n",
    "```python\n",
    ">> v_tuple = (\"apple\", \"banana\", \"cherry\")\n",
    ">> print(type(v_tuple), v_tuple)\n",
    "<class 'tuple'> ('apple', 'banana', 'cherry')\n",
    "```\n",
    "\n",
    "* Rangos (`range`)\n",
    "```python\n",
    ">> v_range = range(6)\n",
    ">> print(type(v_range), v_range)\n",
    "<class 'range'> range(0, 6)\n",
    "```"
   ]
  },
  {
   "cell_type": "markdown",
   "metadata": {},
   "source": [
    "## Mapeos\n",
    "\n",
    "* Diccionarios (`dict`)\n",
    "```python\n",
    ">> v_dict = {\"name\": \"John\", \"age\": 36}\n",
    ">> print(type(v_dict), v_dict)\n",
    "<class 'dict'> {'name': 'John', 'age': 36}\n",
    "```"
   ]
  },
  {
   "cell_type": "markdown",
   "metadata": {},
   "source": [
    "## Conjuntos\n",
    "\n",
    "* Conjuntos (`set`)\n",
    "```python\n",
    ">> v_set = {\"apple\", \"banana\", \"cherry\"}\n",
    ">> print(type(v_set), v_set)\n",
    "<class 'set'> {'cherry', 'apple', 'banana'}\n",
    "```"
   ]
  }
 ],
 "metadata": {
  "language_info": {
   "name": "python"
  },
  "orig_nbformat": 4
 },
 "nbformat": 4,
 "nbformat_minor": 2
}
