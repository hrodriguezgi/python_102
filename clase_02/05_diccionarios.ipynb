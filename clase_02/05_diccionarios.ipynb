{
 "cells": [
  {
   "cell_type": "markdown",
   "metadata": {},
   "source": [
    "# Diccionarios (`dict`)"
   ]
  },
  {
   "cell_type": "markdown",
   "metadata": {},
   "source": [
    "Los diccionarios son un tipo de dato en python que se conocen por ser iterables,\n",
    "sin embargo cuentan con una diferencia notoria frente a las listas, tuplas y \n",
    "conjuntos: estos cuentan con una estructura de `llave : valor`. Esto quiere decir\n",
    "que la información almacenada en este tipo de objetos siempre deben contar con\n",
    "una llave única que los identifique en el diccionario, y cuyo valor puede ser\n",
    "cualquier objeto incluyendo otro diccionario.\n",
    "\n",
    "\n",
    "Creamos los siguientes diccionarios:\n",
    "```python\n",
    ">> dict_manz_roja = {'name':'manzana', 'color': 'rojo', 'sabor': 'dulce'}\n",
    ">> dict_manz_verde = {'name':'manzana', 'color': 'verde', 'sabor': 'acida'}\n",
    "```\n",
    "\n",
    "Para visualizar el contenido, basta con hacer un print de la variable:\n",
    "```python\n",
    ">> print(dict_manz_roja)\n",
    "{'name': 'manzana', 'color': 'rojo', 'sabor': 'dulce'}\n",
    "```"
   ]
  },
  {
   "cell_type": "code",
   "execution_count": 1,
   "metadata": {},
   "outputs": [
    {
     "name": "stdout",
     "output_type": "stream",
     "text": [
      "{'nombre': 'pepito', 'apellido': 'perez', 'edad': 15}\n"
     ]
    }
   ],
   "source": [
    "estudiante = {'nombre': 'pepito', 'apellido': 'perez', 'edad': 15}\n",
    "print(estudiante)"
   ]
  },
  {
   "cell_type": "markdown",
   "metadata": {},
   "source": [
    "## Métodos de Diccionarios\n",
    "\n",
    "### Creación de nuevas llaves\n",
    "\n",
    "```python\n",
    ">> dict_manz_roja['tamanio'] = 'mediano'\n",
    ">> print(dict_manz_roja)\n",
    "{'name': 'manzana', 'color': 'rojo', 'sabor': 'dulce', 'tamanio': 'mediano'}\n",
    "```"
   ]
  },
  {
   "cell_type": "code",
   "execution_count": 2,
   "metadata": {},
   "outputs": [
    {
     "name": "stdout",
     "output_type": "stream",
     "text": [
      "{'nombre': 'pepito', 'apellido': 'perez', 'edad': 15, 'grado': 'décimo'}\n"
     ]
    }
   ],
   "source": [
    "estudiante['grado'] = 'décimo'\n",
    "print(estudiante)"
   ]
  },
  {
   "cell_type": "markdown",
   "metadata": {},
   "source": [
    "### Actualizar llaves\n",
    "\n",
    "```python\n",
    ">> dict_manz_verde['sabor'] = 'dulce'\n",
    ">> print(dict_manz_verde)\n",
    "{'name': 'manzana', 'color': 'verde', 'sabor': 'dulce'}\n",
    "```"
   ]
  },
  {
   "cell_type": "code",
   "execution_count": 3,
   "metadata": {},
   "outputs": [
    {
     "name": "stdout",
     "output_type": "stream",
     "text": [
      "{'nombre': 'pepito', 'apellido': 'perez', 'edad': 15, 'grado': 10}\n"
     ]
    }
   ],
   "source": [
    "estudiante['grado'] = 10\n",
    "print(estudiante)"
   ]
  },
  {
   "cell_type": "markdown",
   "metadata": {},
   "source": [
    "### Obtener una llave\n",
    "\n",
    "1. Opción 1:\n",
    "\n",
    "```python\n",
    ">> print(dict_manz_roja['sabor'])\n",
    "dulce\n",
    "```\n",
    "\n",
    "2. Opción 2:\n",
    "```python\n",
    ">> print(dict_manz_roja.get('colores'))\n",
    "None\n",
    "```"
   ]
  },
  {
   "cell_type": "code",
   "execution_count": 4,
   "metadata": {},
   "outputs": [
    {
     "name": "stdout",
     "output_type": "stream",
     "text": [
      "15\n"
     ]
    }
   ],
   "source": [
    "print(estudiante['edad'])"
   ]
  },
  {
   "cell_type": "code",
   "execution_count": 5,
   "metadata": {},
   "outputs": [
    {
     "ename": "KeyError",
     "evalue": "'edades'",
     "output_type": "error",
     "traceback": [
      "\u001b[0;31m---------------------------------------------------------------------------\u001b[0m",
      "\u001b[0;31mKeyError\u001b[0m                                  Traceback (most recent call last)",
      "\u001b[0;32m/var/folders/n2/685y2tsn1gb_xqdhz1j3vs2h0000gn/T/ipykernel_59634/3673309057.py\u001b[0m in \u001b[0;36m<cell line: 1>\u001b[0;34m()\u001b[0m\n\u001b[0;32m----> 1\u001b[0;31m \u001b[0mprint\u001b[0m\u001b[0;34m(\u001b[0m\u001b[0mestudiante\u001b[0m\u001b[0;34m[\u001b[0m\u001b[0;34m'edades'\u001b[0m\u001b[0;34m]\u001b[0m\u001b[0;34m)\u001b[0m\u001b[0;34m\u001b[0m\u001b[0;34m\u001b[0m\u001b[0m\n\u001b[0m",
      "\u001b[0;31mKeyError\u001b[0m: 'edades'"
     ]
    }
   ],
   "source": [
    "print(estudiante['edades'])"
   ]
  },
  {
   "cell_type": "code",
   "execution_count": 6,
   "metadata": {},
   "outputs": [
    {
     "name": "stdout",
     "output_type": "stream",
     "text": [
      "15\n"
     ]
    }
   ],
   "source": [
    "print(estudiante.get('edad'))"
   ]
  },
  {
   "cell_type": "code",
   "execution_count": 7,
   "metadata": {},
   "outputs": [
    {
     "name": "stdout",
     "output_type": "stream",
     "text": [
      "None\n"
     ]
    }
   ],
   "source": [
    "print(estudiante.get('edades'))"
   ]
  },
  {
   "cell_type": "code",
   "execution_count": 9,
   "metadata": {},
   "outputs": [
    {
     "name": "stdout",
     "output_type": "stream",
     "text": [
      "-1\n"
     ]
    }
   ],
   "source": [
    "print(estudiante.get('edades', -1))"
   ]
  },
  {
   "cell_type": "code",
   "execution_count": 10,
   "metadata": {},
   "outputs": [
    {
     "name": "stdout",
     "output_type": "stream",
     "text": [
      "15\n"
     ]
    }
   ],
   "source": [
    "print(estudiante.get('edad', -1))"
   ]
  },
  {
   "cell_type": "markdown",
   "metadata": {},
   "source": [
    "### Eliminar una llave-valor\n",
    "\n",
    "```python\n",
    ">> dict_manz_roja.pop('tamanio')\n",
    ">> print(dict_manz_roja)\n",
    "{'name': 'manzana', 'color': 'rojo', 'sabor': 'dulce'}\n",
    "```"
   ]
  },
  {
   "cell_type": "code",
   "execution_count": 11,
   "metadata": {},
   "outputs": [
    {
     "name": "stdout",
     "output_type": "stream",
     "text": [
      "{'nombre': 'pepito', 'apellido': 'perez', 'grado': 10}\n"
     ]
    }
   ],
   "source": [
    "estudiante.pop('edad')\n",
    "print(estudiante)"
   ]
  },
  {
   "cell_type": "markdown",
   "metadata": {},
   "source": [
    "### Obtener todas las llaves\n",
    "\n",
    "```python\n",
    ">> print(dict_manz_verde.keys())\n",
    "dict_keys(['name', 'color', 'sabor'])\n",
    "```"
   ]
  },
  {
   "cell_type": "code",
   "execution_count": 18,
   "metadata": {},
   "outputs": [
    {
     "name": "stdout",
     "output_type": "stream",
     "text": [
      "dict_keys(['nombre', 'apellido', 'grado'])\n"
     ]
    }
   ],
   "source": [
    "print(estudiante.keys())"
   ]
  },
  {
   "cell_type": "code",
   "execution_count": 17,
   "metadata": {},
   "outputs": [
    {
     "name": "stdout",
     "output_type": "stream",
     "text": [
      "<class 'list'>\n"
     ]
    }
   ],
   "source": [
    "print(list(estudiante.keys())) # -> Castear"
   ]
  },
  {
   "cell_type": "markdown",
   "metadata": {},
   "source": [
    "### Obtener todos los valores\n",
    "\n",
    "```python\n",
    ">> print(dict_manz_verde.values())\n",
    "dict_values(['manzana', 'verde', 'dulce'])\n",
    "```"
   ]
  },
  {
   "cell_type": "code",
   "execution_count": 13,
   "metadata": {},
   "outputs": [
    {
     "name": "stdout",
     "output_type": "stream",
     "text": [
      "dict_values(['pepito', 'perez', 10])\n"
     ]
    }
   ],
   "source": [
    "print(estudiante.values())"
   ]
  },
  {
   "cell_type": "code",
   "execution_count": 20,
   "metadata": {},
   "outputs": [
    {
     "name": "stdout",
     "output_type": "stream",
     "text": [
      "{10, 'perez', 'pepito'}\n"
     ]
    }
   ],
   "source": [
    "print(set(estudiante.values()))"
   ]
  },
  {
   "cell_type": "code",
   "execution_count": 22,
   "metadata": {},
   "outputs": [
    {
     "name": "stdout",
     "output_type": "stream",
     "text": [
      "{'nombre': 'pepito', 'apellido': 'perez', 'grado': 10, 'apellido_2': 'perez'}\n"
     ]
    }
   ],
   "source": [
    "estudiante['apellido_2'] = 'perez'\n",
    "print(estudiante)"
   ]
  },
  {
   "cell_type": "code",
   "execution_count": 23,
   "metadata": {},
   "outputs": [
    {
     "name": "stdout",
     "output_type": "stream",
     "text": [
      "{10, 'perez', 'pepito'}\n"
     ]
    }
   ],
   "source": [
    "print(set(estudiante.values()))"
   ]
  },
  {
   "cell_type": "code",
   "execution_count": 24,
   "metadata": {},
   "outputs": [
    {
     "name": "stdout",
     "output_type": "stream",
     "text": [
      "('pepito', 'perez', 10, 'perez')\n"
     ]
    }
   ],
   "source": [
    "print(tuple(estudiante.values()))"
   ]
  },
  {
   "cell_type": "markdown",
   "metadata": {},
   "source": [
    "### Obtener todos los llaves-valores\n",
    "\n",
    "```python\n",
    ">> print(dict_manz_verde.items())\n",
    "dict_items([('name', 'manzana'), ('color', 'verde'), ('sabor', 'dulce')])\n",
    "```"
   ]
  },
  {
   "cell_type": "code",
   "execution_count": 14,
   "metadata": {},
   "outputs": [
    {
     "name": "stdout",
     "output_type": "stream",
     "text": [
      "dict_items([('nombre', 'pepito'), ('apellido', 'perez'), ('grado', 10)])\n"
     ]
    }
   ],
   "source": [
    "print(estudiante.items())"
   ]
  },
  {
   "cell_type": "code",
   "execution_count": 25,
   "metadata": {},
   "outputs": [
    {
     "name": "stdout",
     "output_type": "stream",
     "text": [
      "(('nombre', 'pepito'), ('apellido', 'perez'), ('grado', 10), ('apellido_2', 'perez'))\n"
     ]
    }
   ],
   "source": [
    "print(tuple(estudiante.items()))"
   ]
  }
 ],
 "metadata": {
  "kernelspec": {
   "display_name": "data",
   "language": "python",
   "name": "python3"
  },
  "language_info": {
   "codemirror_mode": {
    "name": "ipython",
    "version": 3
   },
   "file_extension": ".py",
   "mimetype": "text/x-python",
   "name": "python",
   "nbconvert_exporter": "python",
   "pygments_lexer": "ipython3",
   "version": "3.9.12"
  },
  "orig_nbformat": 4
 },
 "nbformat": 4,
 "nbformat_minor": 2
}
