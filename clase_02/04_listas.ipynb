{
 "cells": [
  {
   "cell_type": "markdown",
   "metadata": {},
   "source": [
    "# Listas (`lists`)"
   ]
  },
  {
   "cell_type": "markdown",
   "metadata": {},
   "source": [
    "Las listas son un tipo de dato en python que se conocen por ser iterables\n",
    "como lo son los conjuntos y las tuplas. Este tipo de dato permite almacenar\n",
    "cualquier otro tipo de dato, incluso otras listas. Son mutables, son indexables \n",
    "(slice) y permiten datos duplicados.\n",
    "\n",
    "\n",
    "Creamos las siguientes listas:\n",
    "```python\n",
    ">> list_frutas = ['manzana', 'banano', 'naranja']\n",
    ">> list_animales = ['serpiente', 'gorila', 'llama']\n",
    "```\n",
    "\n",
    "Para visualizar el contenido, basta con hacer un print de la variable:\n",
    "```python\n",
    ">> print(list_frutas)\n",
    "['manzana', 'banano', 'naranja']\n",
    "```\n",
    "\n",
    "* Elementos duplicados: las listas permiten elementos duplicados\n",
    "```python\n",
    ">> list_animales2 = ['serpiente', 'gorila', 'llama', 'gorila', 'caballo', 'vaca', 'serpiente', 'llama']\n",
    ">> print(list_animales2)\n",
    "['serpiente', 'gorila', 'llama', 'gorila', 'caballo', 'vaca', 'serpiente', 'llama']\n",
    "```"
   ]
  },
  {
   "cell_type": "code",
   "execution_count": 2,
   "metadata": {},
   "outputs": [
    {
     "name": "stdout",
     "output_type": "stream",
     "text": [
      "['manzana', 'banano', 'naranja', 'fresa', 'mandarina', 'maracuya', 'limon']\n"
     ]
    }
   ],
   "source": [
    "list_frutas = ['manzana', 'banano', 'naranja', 'fresa', 'mandarina', 'maracuya', 'limon']\n",
    "print(list_frutas)"
   ]
  },
  {
   "cell_type": "markdown",
   "metadata": {},
   "source": [
    "## Métodos de Listas\n",
    "\n",
    "### Slice\n",
    "slice: `[inicio:fin:salto]`\n",
    "* si no está definido el inicio, se toma 0 como valor por defecto\n",
    "* si no está definido el fin, se toma desde el valor definido en inicio hasta el final de la lista.\n",
    "* el valor del fin está excluido en el resultado\n",
    "\n",
    "\n",
    "Ejemplo:\n",
    "```python\n",
    ">> list_animales2_new[::2]\n",
    "['serpiente', 'llama', 'caballo', 'serpiente']\n",
    "```"
   ]
  },
  {
   "cell_type": "code",
   "execution_count": 3,
   "metadata": {},
   "outputs": [
    {
     "name": "stdout",
     "output_type": "stream",
     "text": [
      "['manzana', 'banano', 'naranja', 'fresa', 'mandarina', 'maracuya', 'limon']\n"
     ]
    }
   ],
   "source": [
    "print(list_frutas[::])"
   ]
  },
  {
   "cell_type": "code",
   "execution_count": 4,
   "metadata": {},
   "outputs": [
    {
     "name": "stdout",
     "output_type": "stream",
     "text": [
      "['naranja', 'fresa', 'mandarina', 'maracuya', 'limon']\n"
     ]
    }
   ],
   "source": [
    "print(list_frutas[2::])"
   ]
  },
  {
   "cell_type": "code",
   "execution_count": 6,
   "metadata": {},
   "outputs": [
    {
     "name": "stdout",
     "output_type": "stream",
     "text": [
      "['naranja', 'fresa', 'mandarina', 'maracuya']\n"
     ]
    }
   ],
   "source": [
    "print(list_frutas[2:6:])"
   ]
  },
  {
   "cell_type": "code",
   "execution_count": 9,
   "metadata": {},
   "outputs": [
    {
     "name": "stdout",
     "output_type": "stream",
     "text": [
      "['manzana', 'naranja', 'mandarina', 'limon']\n"
     ]
    }
   ],
   "source": [
    "print(list_frutas[::2])"
   ]
  },
  {
   "cell_type": "markdown",
   "metadata": {},
   "source": [
    "### Append\n",
    "\n",
    "Adicionar elementos a una lista:\n",
    "\n",
    "```python\n",
    ">> list_animales2.append('vaca')\n",
    ">> print(list_animales2)\n",
    "['serpiente', 'gorila', 'llama', 'gorila', 'caballo', 'vaca', 'serpiente', 'llama', 'vaca']\n",
    "```"
   ]
  },
  {
   "cell_type": "markdown",
   "metadata": {},
   "source": [
    "### Insert\n",
    "\n",
    "Adicionar elementos a una lista en una posición en partícular:\n",
    "\n",
    "```python\n",
    ">> list_animales2.insert(3, 'aguila')\n",
    ">> print(list_animales2)\n",
    "['serpiente', 'gorila', 'llama', 'aguila', 'gorila', 'caballo', 'vaca', 'serpiente', 'llama', 'vaca']\n",
    "```"
   ]
  },
  {
   "cell_type": "markdown",
   "metadata": {},
   "source": [
    "### Pop\n",
    "\n",
    "Remover un elemento de la lista. Por defecto será el último\n",
    "\n",
    "```python\n",
    ">> list_animales2.pop()\n",
    ">> print(list_animales2)\n",
    "['serpiente', 'gorila', 'llama', 'aguila', 'gorila', 'caballo', 'vaca', 'serpiente', 'llama']\n",
    "```"
   ]
  },
  {
   "cell_type": "markdown",
   "metadata": {},
   "source": [
    "### Remove\n",
    "\n",
    "Remover la primer ocurrencia de un elemento en la lista.\n",
    "\n",
    "```python\n",
    ">> list_animales2.remove('gorila')\n",
    ">> print(list_animales2)\n",
    "['serpiente', 'llama', 'aguila', 'gorila', 'caballo', 'vaca', 'serpiente', 'llama']\n",
    "```"
   ]
  },
  {
   "cell_type": "markdown",
   "metadata": {},
   "source": [
    "### Extend\n",
    "\n",
    "Extender la lista a partir de los elementos de otra lista (o iterable)\n",
    "\n",
    "```python\n",
    ">> otros_animales = ['hipopotamo', 'jirafa', 'Aguila']\n",
    ">> list_animales2.extend(otros_animales)\n",
    ">> print(list_animales2)\n",
    "['serpiente', 'llama', 'aguila', 'gorila', 'caballo', 'vaca', 'serpiente', 'llama', 'hipopotamo', 'jirafa', 'Aguila']\n",
    "```"
   ]
  },
  {
   "cell_type": "markdown",
   "metadata": {},
   "source": [
    "### Count\n",
    "\n",
    "Conteo de número de ocurrencias de un objeto en la lista\n",
    "\n",
    "```python\n",
    ">> print(list_animales2.count('serpiente'))\n",
    "2\n",
    "```"
   ]
  },
  {
   "cell_type": "markdown",
   "metadata": {},
   "source": [
    "### Copy\n",
    "\n",
    "Crea una copia de una lista\n",
    "\n",
    "```python\n",
    ">> list_animales2_copy = list_animales2.copy()\n",
    ">> print(list_animales2_copy)\n",
    "['serpiente', 'llama', 'aguila', 'gorila', 'caballo', 'vaca', 'serpiente', 'llama', 'hipopotamo', 'jirafa', 'Aguila']\n",
    "```"
   ]
  }
 ],
 "metadata": {
  "kernelspec": {
   "display_name": "data",
   "language": "python",
   "name": "python3"
  },
  "language_info": {
   "codemirror_mode": {
    "name": "ipython",
    "version": 3
   },
   "file_extension": ".py",
   "mimetype": "text/x-python",
   "name": "python",
   "nbconvert_exporter": "python",
   "pygments_lexer": "ipython3",
   "version": "3.9.12"
  },
  "orig_nbformat": 4
 },
 "nbformat": 4,
 "nbformat_minor": 2
}
